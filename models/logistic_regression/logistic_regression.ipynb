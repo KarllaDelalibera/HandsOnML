{
 "cells": [
  {
   "cell_type": "markdown",
   "id": "a69d8c4e-146c-4b9c-82ec-64b1808b02c4",
   "metadata": {},
   "source": [
    "### Regressão logística\n",
    "\n",
    "Um modelo de regressão logística aplica o sigmóide ao modelo de regressão linear. Na qual podemos representar do seguinte modo:\n",
    "\n",
    "$$ f_{\\mathbf{w},b}(\\mathbf{x}^{(i)}) = g(\\mathbf{w} \\cdot \\mathbf{x}^{(i)} + b ) \\tag{1} $$ \n",
    "\n",
    "  na qual,\n",
    "\n",
    "$$g(z) = \\frac{1}{1+e^{-z}}\\tag{2}$$\n",
    "\n",
    "Portanto o modelo de regressão logística é:\n",
    "\n",
    "$$ f_{\\mathbf{w},b}(\\mathbf{x}^{(i)}) = \\frac{1}{1+e^{-(\\mathbf{w} \\cdot \\mathbf{x}^{(i)} + b)}}\\tag{3}$$\n",
    "\n",
    "Nosso objetivo é encontrar os valores de $\\mathbf{w}$ e $b$. Uma forma de fazer isso é minimizando uma medida de erro entre as previsões $f_{\\mathbf{w},b}(\\mathbf{x}^{(i)})$ e o verdadeiro valor $y^{(i)}$.\n",
    "\n",
    "A função de custo, utilizando a entropia cruzada, é dada por:\n",
    "\n",
    "$$ J(\\mathbf{w},b) = \\frac{1}{m} \\sum_{i=0}^{m-1} \\left[ loss(f_{\\mathbf{w},b}(\\mathbf{x}^{(i)}), y^{(i)}) \\right] \\tag{4}$$\n",
    "\n",
    "onde\n",
    "* $loss(f_{\\mathbf{w},b}(\\mathbf{x}^{(i)}), y^{(i)})$ é o custo de um único ponto de dados:\n",
    "\n",
    "    $$loss(f_{\\mathbf{w},b}(\\mathbf{x}^{(i)}), y^{(i)}) = -y^{(i)} \\log\\left(f_{\\mathbf{w},b}\\left( \\mathbf{x}^{(i)} \\right) \\right) - \\left( 1 - y^{(i)}\\right) \\log \\left( 1 - f_{\\mathbf{w},b}\\left( \\mathbf{x}^{(i)} \\right) \\right) \\tag{5}$$\n",
    "    \n",
    "* $m$ é o número de exemplos de treinamento, e $n$ é o número de features.\n",
    "\n",
    "Na regressão logística, utilizamos os dados de treinamento para ajustar os parâmetros $\\mathbf{w}$ e $b$, a fim de minimizar a função de custo $J(\\mathbf{w},b)$. Para encontrar os valores dos parâmetros, utilizamos o método de gradiente descendente.\n",
    "\n",
    "#### Derivadas\n",
    "\n",
    "As derivadas nos ajudam a encontrar o mínimo da função de custo. Deste modo, as derivadas parciais da função de custo $J(\\mathbf{w},b)$ em relação $\\mathbf{w}$ e a $b$ são dadas por:\n",
    "\n",
    "$$\\begin{align*}\n",
    "\\frac{\\partial J(\\mathbf{w},b)}{\\partial w_j}  &= \\frac{1}{m} \\sum\\limits_{i = 0}^{m-1} (f_{\\mathbf{w},b}(\\mathbf{x}^{(i)}) - y^{(i)})x_{j}^{(i)} \\tag{6} \\\\\n",
    "\\frac{\\partial J(\\mathbf{w},b)}{\\partial b}  &= \\frac{1}{m} \\sum\\limits_{i = 0}^{m-1} (f_{\\mathbf{w},b}(\\mathbf{x}^{(i)}) - y^{(i)}) \\tag{7} \n",
    "\\end{align*}$$\n",
    "\n",
    "#### Atualização dos Parâmetros\n",
    "\n",
    "Os parâmetros $w$ e $b$ são atualizados simultaneamente da seguinte maneira:\n",
    "\n",
    "$$w_j = w_j -  \\alpha \\frac{\\partial J(\\mathbf{w},b)}{\\partial w_j} \\tag{8}$$  para $j=0,.., n-1$\n",
    "\n",
    "$$b = b -  \\alpha \\frac{\\partial J(\\mathbf{w},b)}{\\partial b} \\tag{9}$$\n",
    "\n",
    "onde $\\alpha$ é a taxa de aprendizado, que controla o tamanho dos passos de atualização dos parâmetros.\n",
    "\n",
    "O processo é repetido iterativamente até que a função de custo $J(w, b)$ atinja um valor mínimo.\n"
   ]
  },
  {
   "cell_type": "code",
   "execution_count": null,
   "id": "db3808ef-b607-4b46-b335-93f539fd1d8d",
   "metadata": {},
   "outputs": [],
   "source": []
  }
 ],
 "metadata": {
  "kernelspec": {
   "display_name": "Python 3 (ipykernel)",
   "language": "python",
   "name": "python3"
  },
  "language_info": {
   "codemirror_mode": {
    "name": "ipython",
    "version": 3
   },
   "file_extension": ".py",
   "mimetype": "text/x-python",
   "name": "python",
   "nbconvert_exporter": "python",
   "pygments_lexer": "ipython3",
   "version": "3.10.12"
  }
 },
 "nbformat": 4,
 "nbformat_minor": 5
}
